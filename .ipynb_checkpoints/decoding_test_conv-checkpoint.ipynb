{
 "cells": [
  {
   "cell_type": "code",
   "execution_count": 1,
   "metadata": {},
   "outputs": [
    {
     "name": "stdout",
     "output_type": "stream",
     "text": [
      "This is a non-sorted file\n",
      "EMG filtered? -- True\n",
      "EMG filtered? -- True\n",
      "Cortical data cleaned? -- True\n",
      "Data binned? -- False\n",
      "Spikes smoothed? -- False\n",
      "Binning spikes with 0.0500 s\n",
      "Filtered EMGs have been downsampled\n",
      "Data have been binned.\n",
      "This is a non-sorted file\n",
      "EMG filtered? -- True\n",
      "EMG filtered? -- True\n",
      "Cortical data cleaned? -- True\n",
      "Data binned? -- False\n",
      "Spikes smoothed? -- False\n",
      "Binning spikes with 0.0500 s\n",
      "Filtered EMGs have been downsampled\n",
      "Data have been binned.\n",
      "This is a non-sorted file\n",
      "EMG filtered? -- True\n",
      "EMG filtered? -- True\n",
      "Cortical data cleaned? -- True\n",
      "Data binned? -- False\n",
      "Spikes smoothed? -- False\n",
      "Binning spikes with 0.0500 s\n",
      "Filtered EMGs have been downsampled\n",
      "Data have been binned.\n",
      "This is a non-sorted file\n",
      "EMG filtered? -- True\n",
      "EMG filtered? -- True\n",
      "Cortical data cleaned? -- True\n",
      "Data binned? -- False\n",
      "Spikes smoothed? -- False\n",
      "Binning spikes with 0.0500 s\n",
      "Filtered EMGs have been downsampled\n",
      "Data have been binned.\n",
      "This is a non-sorted file\n",
      "EMG filtered? -- True\n",
      "EMG filtered? -- True\n",
      "Cortical data cleaned? -- True\n",
      "Data binned? -- False\n",
      "Spikes smoothed? -- False\n",
      "Binning spikes with 0.0500 s\n",
      "Filtered EMGs have been downsampled\n",
      "Data have been binned.\n",
      "This is a non-sorted file\n",
      "EMG filtered? -- True\n",
      "EMG filtered? -- True\n",
      "Cortical data cleaned? -- True\n",
      "Data binned? -- False\n",
      "Spikes smoothed? -- False\n",
      "Binning spikes with 0.0500 s\n",
      "Filtered EMGs have been downsampled\n",
      "Data have been binned.\n",
      "This is a non-sorted file\n",
      "EMG filtered? -- True\n",
      "EMG filtered? -- True\n",
      "Cortical data cleaned? -- True\n",
      "Data binned? -- False\n",
      "Spikes smoothed? -- False\n",
      "Binning spikes with 0.0500 s\n",
      "Filtered EMGs have been downsampled\n",
      "Data have been binned.\n"
     ]
    }
   ],
   "source": [
    "import numpy as np\n",
    "import fnmatch, os\n",
    "import pickle\n",
    "from util import batch_load\n",
    "\n",
    "base_path = '../cage_data/20191002/'\n",
    "file_list = fnmatch.filter(os.listdir(base_path), \"*.pkl\")\n",
    "file_list = np.sort(file_list)\n",
    "\n",
    "bin_size = 0.05\n",
    "smooth = 0\n",
    "smooth_window = 0.1\n",
    "denoising = 0\n",
    "remove_silent = 1\n",
    "\n",
    "all_spike, all_emg, all_timeframe = batch_load(base_path,\n",
    "                                               file_list,\n",
    "                                               bin_size,\n",
    "                                               smooth_window,\n",
    "                                               denoising,\n",
    "                                               smooth,\n",
    "                                               remove_silent)"
   ]
  },
  {
   "cell_type": "code",
   "execution_count": 7,
   "metadata": {},
   "outputs": [
    {
     "name": "stdout",
     "output_type": "stream",
     "text": [
      "35963\n"
     ]
    },
    {
     "ename": "IndexError",
     "evalue": "too many indices for array",
     "output_type": "error",
     "traceback": [
      "\u001b[0;31m\u001b[0m",
      "\u001b[0;31mIndexError\u001b[0mTraceback (most recent call last)",
      "\u001b[0;32m<ipython-input-7-4c029faa8a13>\u001b[0m in \u001b[0;36m<module>\u001b[0;34m\u001b[0m\n\u001b[1;32m      9\u001b[0m \u001b[0mtrain_x_wiener\u001b[0m\u001b[0;34m,\u001b[0m \u001b[0mtrain_y_wiener\u001b[0m \u001b[0;34m=\u001b[0m \u001b[0mdataset_for_WF_multifile\u001b[0m\u001b[0;34m(\u001b[0m\u001b[0mall_spike\u001b[0m\u001b[0;34m[\u001b[0m\u001b[0;36m0\u001b[0m\u001b[0;34m:\u001b[0m\u001b[0;36m2\u001b[0m\u001b[0;34m]\u001b[0m\u001b[0;34m,\u001b[0m \u001b[0mall_emg\u001b[0m\u001b[0;34m[\u001b[0m\u001b[0;36m0\u001b[0m\u001b[0;34m:\u001b[0m\u001b[0;36m2\u001b[0m\u001b[0;34m]\u001b[0m\u001b[0;34m,\u001b[0m \u001b[0mn_lags\u001b[0m\u001b[0;34m)\u001b[0m\u001b[0;34m\u001b[0m\u001b[0;34m\u001b[0m\u001b[0m\n\u001b[1;32m     10\u001b[0m \u001b[0mprint\u001b[0m\u001b[0;34m(\u001b[0m\u001b[0mnp\u001b[0m\u001b[0;34m.\u001b[0m\u001b[0msize\u001b[0m\u001b[0;34m(\u001b[0m\u001b[0mtrain_x_wiener\u001b[0m\u001b[0;34m,\u001b[0m \u001b[0;36m0\u001b[0m\u001b[0;34m)\u001b[0m\u001b[0;34m)\u001b[0m\u001b[0;34m\u001b[0m\u001b[0;34m\u001b[0m\u001b[0m\n\u001b[0;32m---> 11\u001b[0;31m \u001b[0mtest_x_wiener\u001b[0m\u001b[0;34m,\u001b[0m \u001b[0mtest_y_wiener\u001b[0m \u001b[0;34m=\u001b[0m \u001b[0mdataset_for_WF_multifile\u001b[0m\u001b[0;34m(\u001b[0m\u001b[0mall_spike\u001b[0m\u001b[0;34m[\u001b[0m\u001b[0;36m3\u001b[0m\u001b[0;34m]\u001b[0m\u001b[0;34m,\u001b[0m \u001b[0mall_emg\u001b[0m\u001b[0;34m[\u001b[0m\u001b[0;36m3\u001b[0m\u001b[0;34m]\u001b[0m\u001b[0;34m,\u001b[0m \u001b[0mn_lags\u001b[0m\u001b[0;34m)\u001b[0m\u001b[0;34m\u001b[0m\u001b[0;34m\u001b[0m\u001b[0m\n\u001b[0m\u001b[1;32m     12\u001b[0m \u001b[0mprint\u001b[0m\u001b[0;34m(\u001b[0m\u001b[0mnp\u001b[0m\u001b[0;34m.\u001b[0m\u001b[0msize\u001b[0m\u001b[0;34m(\u001b[0m\u001b[0mtest_x_wiener\u001b[0m\u001b[0;34m,\u001b[0m \u001b[0;36m0\u001b[0m\u001b[0;34m)\u001b[0m\u001b[0;34m)\u001b[0m\u001b[0;34m\u001b[0m\u001b[0;34m\u001b[0m\u001b[0m\n\u001b[1;32m     13\u001b[0m \u001b[0;34m\u001b[0m\u001b[0m\n",
      "\u001b[0;32m/home/xmv8802/cage_data_analysis/wiener_filter.py\u001b[0m in \u001b[0;36mdataset_for_WF_multifile\u001b[0;34m(spike, y, N)\u001b[0m\n\u001b[1;32m     19\u001b[0m         \u001b[0mspike\u001b[0m \u001b[0;34m=\u001b[0m \u001b[0;34m[\u001b[0m\u001b[0mspike\u001b[0m\u001b[0;34m]\u001b[0m\u001b[0;34m\u001b[0m\u001b[0;34m\u001b[0m\u001b[0m\n\u001b[1;32m     20\u001b[0m     \u001b[0;32mif\u001b[0m \u001b[0mtype\u001b[0m\u001b[0;34m(\u001b[0m\u001b[0my\u001b[0m\u001b[0;34m)\u001b[0m \u001b[0;34m==\u001b[0m \u001b[0mnp\u001b[0m\u001b[0;34m.\u001b[0m\u001b[0mndarray\u001b[0m\u001b[0;34m:\u001b[0m\u001b[0;34m\u001b[0m\u001b[0;34m\u001b[0m\u001b[0m\n\u001b[0;32m---> 21\u001b[0;31m         \u001b[0my\u001b[0m \u001b[0;34m=\u001b[0m \u001b[0;34m[\u001b[0m\u001b[0my\u001b[0m\u001b[0;34m]\u001b[0m\u001b[0;34m\u001b[0m\u001b[0;34m\u001b[0m\u001b[0m\n\u001b[0m\u001b[1;32m     22\u001b[0m     \u001b[0mspike_wiener\u001b[0m \u001b[0;34m=\u001b[0m \u001b[0;34m[\u001b[0m\u001b[0;34m]\u001b[0m\u001b[0;34m\u001b[0m\u001b[0;34m\u001b[0m\u001b[0m\n\u001b[1;32m     23\u001b[0m     \u001b[0memg_wiener\u001b[0m \u001b[0;34m=\u001b[0m \u001b[0;34m[\u001b[0m\u001b[0;34m]\u001b[0m\u001b[0;34m\u001b[0m\u001b[0;34m\u001b[0m\u001b[0m\n",
      "\u001b[0;32m/home/xmv8802/cage_data_analysis/wiener_filter.py\u001b[0m in \u001b[0;36mdataset_for_WF\u001b[0;34m(spike, y, N)\u001b[0m\n\u001b[1;32m      9\u001b[0m     \u001b[0memg_N_lag\u001b[0m \u001b[0;34m=\u001b[0m \u001b[0;34m[\u001b[0m\u001b[0;34m]\u001b[0m\u001b[0;34m\u001b[0m\u001b[0;34m\u001b[0m\u001b[0m\n\u001b[1;32m     10\u001b[0m     \u001b[0;32mfor\u001b[0m \u001b[0mi\u001b[0m \u001b[0;32min\u001b[0m \u001b[0mrange\u001b[0m\u001b[0;34m(\u001b[0m\u001b[0mnp\u001b[0m\u001b[0;34m.\u001b[0m\u001b[0msize\u001b[0m\u001b[0;34m(\u001b[0m\u001b[0mspike\u001b[0m\u001b[0;34m,\u001b[0m \u001b[0;36m0\u001b[0m\u001b[0;34m)\u001b[0m \u001b[0;34m-\u001b[0m \u001b[0mN\u001b[0m\u001b[0;34m)\u001b[0m\u001b[0;34m:\u001b[0m\u001b[0;34m\u001b[0m\u001b[0;34m\u001b[0m\u001b[0m\n\u001b[0;32m---> 11\u001b[0;31m         \u001b[0mtemp\u001b[0m \u001b[0;34m=\u001b[0m \u001b[0mspike\u001b[0m\u001b[0;34m[\u001b[0m\u001b[0mi\u001b[0m\u001b[0;34m:\u001b[0m\u001b[0mi\u001b[0m\u001b[0;34m+\u001b[0m\u001b[0mN\u001b[0m\u001b[0;34m,\u001b[0m \u001b[0;34m:\u001b[0m\u001b[0;34m]\u001b[0m\u001b[0;34m\u001b[0m\u001b[0;34m\u001b[0m\u001b[0m\n\u001b[0m\u001b[1;32m     12\u001b[0m         \u001b[0mtemp\u001b[0m \u001b[0;34m=\u001b[0m \u001b[0mtemp\u001b[0m\u001b[0;34m.\u001b[0m\u001b[0mreshape\u001b[0m\u001b[0;34m(\u001b[0m\u001b[0;34m(\u001b[0m\u001b[0mnp\u001b[0m\u001b[0;34m.\u001b[0m\u001b[0msize\u001b[0m\u001b[0;34m(\u001b[0m\u001b[0mtemp\u001b[0m\u001b[0;34m)\u001b[0m\u001b[0;34m)\u001b[0m\u001b[0;34m)\u001b[0m\u001b[0;34m\u001b[0m\u001b[0;34m\u001b[0m\u001b[0m\n\u001b[1;32m     13\u001b[0m         \u001b[0mspike_N_lag\u001b[0m\u001b[0;34m.\u001b[0m\u001b[0mappend\u001b[0m\u001b[0;34m(\u001b[0m\u001b[0mtemp\u001b[0m\u001b[0;34m)\u001b[0m\u001b[0;34m\u001b[0m\u001b[0;34m\u001b[0m\u001b[0m\n",
      "\u001b[0;31mIndexError\u001b[0m: too many indices for array"
     ]
    }
   ],
   "source": [
    "\"\"\"\n",
    "Linear decoder\n",
    "\"\"\"\n",
    "from wiener_filter import dataset_for_WF_multifile\n",
    "from wiener_filter import wiener_cascade_train, wiener_cascade_test, wiener_only_train,w_filter_test\n",
    "from util import vaf\n",
    "\n",
    "n_lags = 20\n",
    "train_x_wiener, train_y_wiener = dataset_for_WF_multifile(all_spike[0:2], all_emg[0:2], n_lags)\n",
    "print(np.size(train_x_wiener, 0))\n",
    "test_x_wiener, test_y_wiener = dataset_for_WF_multifile(all_spike[3], all_emg[3], n_lags)\n",
    "print(np.size(test_x_wiener, 0))\n",
    "\n",
    "H_reg, res_lsq = wiener_cascade_train(train_x_wiener, train_y_wiener, l2 = 0)\n",
    "test_y_wiener_pred = wiener_cascade_test(test_x_wiener, H_reg, res_lsq)\n",
    "print(vaf(test_y_wiener, test_y_wiener_pred))\n",
    "\n",
    "H_reg = wiener_only_train(train_x_wiener, train_y_wiener, l2 = 0)\n",
    "test_y_wiener_pred = w_filter_test(test_x_wiener, H_reg)\n",
    "print(vaf(test_y_wiener, test_y_wiener_pred))"
   ]
  },
  {
   "cell_type": "code",
   "execution_count": 3,
   "metadata": {},
   "outputs": [
    {
     "name": "stdout",
     "output_type": "stream",
     "text": [
      "18001\n",
      "18002\n",
      "18002\n",
      "Data loader num: 359\n",
      "batch: 50 , loss is:2151.122476\n",
      "batch: 100 , loss is:1522.827745\n",
      "batch: 150 , loss is:1493.456179\n",
      "batch: 200 , loss is:1211.413900\n",
      "batch: 250 , loss is:1237.662385\n",
      "batch: 300 , loss is:1127.785641\n",
      "batch: 350 , loss is:1046.382266\n",
      "1 epoch is finished!\n",
      "batch: 50 , loss is:42328.121137\n",
      "batch: 100 , loss is:418.873231\n",
      "batch: 150 , loss is:429.468352\n",
      "batch: 200 , loss is:457.256706\n",
      "batch: 250 , loss is:464.089911\n",
      "batch: 300 , loss is:465.041335\n",
      "batch: 350 , loss is:445.935105\n",
      "11 epoch is finished!\n",
      "train time: 697.2577433586121\n"
     ]
    }
   ],
   "source": [
    "from decoder_tcn import train_TCN_decoder, predict_TCN_decoder\n",
    "from dataloader_cage import create_samples_xy_rnn_list\n",
    "n_lags = 40\n",
    "train_x, train_y = create_samples_xy_rnn_list(all_spike[0:2],all_emg[0:2], n_lags, 1)\n",
    "test_x, test_y = create_samples_xy_rnn_list(all_spike[3], all_emg[3], n_lags, 1)\n",
    "\n",
    "RNN_decoder = train_TCN_decoder(train_x, train_y, 0.001, epoch = 20, batchSize = 100, checkPoint = 50, use_cuda = True)"
   ]
  },
  {
   "cell_type": "code",
   "execution_count": 5,
   "metadata": {},
   "outputs": [
    {
     "name": "stdout",
     "output_type": "stream",
     "text": [
      "36.265051659665396\n"
     ]
    }
   ],
   "source": [
    "pred_y = predict_TCN_decoder(RNN_decoder, test_x, True)\n",
    "print(vaf(test_y, pred_y))"
   ]
  },
  {
   "cell_type": "code",
   "execution_count": null,
   "metadata": {},
   "outputs": [],
   "source": []
  },
  {
   "cell_type": "code",
   "execution_count": null,
   "metadata": {},
   "outputs": [],
   "source": []
  },
  {
   "cell_type": "code",
   "execution_count": null,
   "metadata": {},
   "outputs": [],
   "source": []
  },
  {
   "cell_type": "code",
   "execution_count": null,
   "metadata": {},
   "outputs": [],
   "source": []
  },
  {
   "cell_type": "code",
   "execution_count": null,
   "metadata": {},
   "outputs": [],
   "source": []
  }
 ],
 "metadata": {
  "kernelspec": {
   "display_name": "Python 3",
   "language": "python",
   "name": "python3"
  },
  "language_info": {
   "codemirror_mode": {
    "name": "ipython",
    "version": 3
   },
   "file_extension": ".py",
   "mimetype": "text/x-python",
   "name": "python",
   "nbconvert_exporter": "python",
   "pygments_lexer": "ipython3",
   "version": "3.6.8"
  }
 },
 "nbformat": 4,
 "nbformat_minor": 2
}
